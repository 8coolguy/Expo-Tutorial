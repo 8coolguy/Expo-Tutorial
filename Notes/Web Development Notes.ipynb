{
 "cells": [
  {
   "cell_type": "markdown",
   "metadata": {},
   "source": [
    "# Using Expo Go"
   ]
  },
  {
   "cell_type": "markdown",
   "metadata": {},
   "source": [
    "Dowload Expo"
   ]
  },
  {
   "cell_type": "code",
   "execution_count": null,
   "metadata": {},
   "outputs": [],
   "source": [
    "Create a Git Hub Repository"
   ]
  },
  {
   "cell_type": "markdown",
   "metadata": {},
   "source": [
    "Use Node JS "
   ]
  },
  {
   "cell_type": "markdown",
   "metadata": {},
   "source": [
    "install --g expo-cli This command works perfectly. "
   ]
  },
  {
   "cell_type": "code",
   "execution_count": null,
   "metadata": {},
   "outputs": [],
   "source": [
    "run expo init NAME --npm"
   ]
  },
  {
   "cell_type": "markdown",
   "metadata": {},
   "source": [
    "expo start run the app \n",
    "Then you can make the app.js file run stuff from APP .js\n",
    "\n",
    "Code that I ran was this: \n",
    "\n"
   ]
  },
  {
   "cell_type": "markdown",
   "metadata": {},
   "source": [
    "# Code returns SAN FRAN AREA Map\n",
    "import React from 'react';\n",
    "import { Platform, StyleSheet, Text, View } from 'react-native';\n",
    "import MapView, { PROVIDER_GOOGLE } from 'react-native-maps';\n",
    "export default\n",
    "class App extends React.Component {\n",
    "    render() {\n",
    "        return (\n",
    "            <MapView\n",
    "                style={{ flex: 1 }}\n",
    "                provider={PROVIDER_GOOGLE}\n",
    "                showsUserLocation\n",
    "                initialRegion={{\n",
    "                    latitude: 37.78825,\n",
    "                    longitude: -122.4324,\n",
    "                    latitudeDelta: 0.0922,\n",
    "                    longitudeDelta: 0.0421\n",
    "                }}\n",
    "            />\n",
    "        );\n",
    "    }\n",
    "}\n"
   ]
  }
 ],
 "metadata": {
  "kernelspec": {
   "display_name": "Python 3",
   "language": "python",
   "name": "python3"
  },
  "language_info": {
   "codemirror_mode": {
    "name": "ipython",
    "version": 3
   },
   "file_extension": ".py",
   "mimetype": "text/x-python",
   "name": "python",
   "nbconvert_exporter": "python",
   "pygments_lexer": "ipython3",
   "version": "3.8.3"
  }
 },
 "nbformat": 4,
 "nbformat_minor": 4
}
